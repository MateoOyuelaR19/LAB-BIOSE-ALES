{
 "cells": [
  {
   "cell_type": "markdown",
   "metadata": {},
   "source": [
    "**Seguimiento 4**"
   ]
  },
  {
   "cell_type": "code",
   "execution_count": 1,
   "metadata": {},
   "outputs": [],
   "source": [
    "import numpy as np\n",
    "import matplotlib.pyplot as plt"
   ]
  },
  {
   "cell_type": "code",
   "execution_count": 16,
   "metadata": {},
   "outputs": [],
   "source": [
    "#cargar datos\n",
    "import os \n",
    "ruta=os.getcwd()\n",
    "archivo=os.listdir(ruta+'/EMG_data_for_gestures-master')\n",
    "serie1=[] #guardar en matriz tridimensional? para no tener dos series por aparte\n",
    "serie2=[]\n",
    "for i in archivo[0:-1]: #ignora el readme\n",
    "    v=os.listdir(ruta+'/EMG_data_for_gestures-master'+'/'+i)\n",
    "    #x1=np.loadtxt(ruta+'/EMG_data_for_gestures-master'+'/'+i+'/'+v[0],skiprows=1,delimiter='\\t',usecols=range(0,9))\n",
    "    x2=np.loadtxt(ruta+'/EMG_data_for_gestures-master'+'/'+i+'/'+v[1],skiprows=1,delimiter='\\t',usecols=range(0,10))\n",
    "    #serie1.append(x1)\n",
    "    serie2.append(x2)\n",
    "#serie1=np.array(serie1,dtype=object)\n",
    "#serie2=np.array(serie2,dtype=object)\n",
    "#serie1[0] -->Serie 1 del primer sujeto y no carga la columna class porque el ultimo dato de la serie 1 del sujeto 34 le falta el valor (creo que es por eso)\n",
    "#se podría arreglar skipeando también la última fila. o cargando solo los 2 xd"
   ]
  },
  {
   "cell_type": "markdown",
   "metadata": {},
   "source": [
    "definicion de funciones"
   ]
  },
  {
   "cell_type": "code",
   "execution_count": 108,
   "metadata": {},
   "outputs": [],
   "source": [
    "def tkeo(data): \n",
    "    x=data*1\n",
    "    x[1:-1]=np.square(x[1:-1])-np.multiply(x [0:-2],x[2:]) #aplica la función para todos los datos menos el primero y el último, que no es un problema (describir en análisis)\n",
    "    return x"
   ]
  },
  {
   "cell_type": "code",
   "execution_count": 92,
   "metadata": {},
   "outputs": [],
   "source": [
    "def tkeoall(xdata): #se le entrega la matriz incluyendo la columna del tiempo (no la de class)\n",
    "    data=xdata[:,1:-1]*1\n",
    "    tkeoforchannel=np.apply_along_axis(tkeo,0,data)\n",
    "    return tkeoforchannel #saca un array donde tkeoall(data)[0] es el primer canal"
   ]
  },
  {
   "cell_type": "code",
   "execution_count": 14,
   "metadata": {},
   "outputs": [],
   "source": [
    "def rms(x): #x es un array\n",
    "    x_squared=np.square(x)\n",
    "    x_mean=np.mean(x_squared)\n",
    "    xrms=np.sqrt(x_mean)\n",
    "    return xrms"
   ]
  },
  {
   "cell_type": "code",
   "execution_count": 15,
   "metadata": {},
   "outputs": [],
   "source": [
    "#funcion\n",
    "def caracteristicas(data): \n",
    "    carac_canales=[]\n",
    "    for i in range(0,np.shape(data)[1]): #tal vez se pueda usar apply_along_axis para calcular todas\n",
    "        xx=data[:,i]\n",
    "        xrms=rms(xx) #root mean square\n",
    "        xvar=np.var(xx) #varianza\n",
    "        xmav=np.mean(np.abs(data)) #mean absolute value\n",
    "        xmavs=np.mean(np.abs(np.diff(data))) #mean absolute value slope\n",
    "        derivative = np.diff(data)\n",
    "        xssc = np.sum(np.diff(np.sign(derivative)) != 0) #Slope sign changes\n",
    "        diff_abs = np.abs(np.diff(data))\n",
    "        xwl = np.sum(diff_abs) #waveform length\n",
    "        xzc = len(np.where(np.diff(np.sign(data)))[0]) #zero crossings\n",
    "        carac_canal_actual=[xrms,xvar,xmav,xmavs,xssc,xwl,xzc]\n",
    "        carac_canales.append(carac_canal_actual)\n",
    "    return np.array(carac_canales)"
   ]
  },
  {
   "cell_type": "markdown",
   "metadata": {},
   "source": [
    "tkeo"
   ]
  },
  {
   "cell_type": "code",
   "execution_count": 109,
   "metadata": {},
   "outputs": [
    {
     "name": "stderr",
     "output_type": "stream",
     "text": [
      "c:\\Users\\WIN 7\\AppData\\Local\\Programs\\Python\\Python38\\lib\\site-packages\\numpy\\core\\fromnumeric.py:2009: VisibleDeprecationWarning: Creating an ndarray from ragged nested sequences (which is a list-or-tuple of lists-or-tuples-or ndarrays with different lengths or shapes) is deprecated. If you meant to do this, you must specify 'dtype=object' when creating the ndarray.\n",
      "  result = asarray(a).shape\n"
     ]
    }
   ],
   "source": [
    "tkeo_serie2=[]\n",
    "for i in range(0,np.shape(serie2)[0]):\n",
    "    tkeo_serie2.append((tkeoall(serie2[i]))) "
   ]
  },
  {
   "cell_type": "code",
   "execution_count": 97,
   "metadata": {},
   "outputs": [
    {
     "data": {
      "text/plain": [
       "[<matplotlib.lines.Line2D at 0x1a6373d0>]"
      ]
     },
     "execution_count": 97,
     "metadata": {},
     "output_type": "execute_result"
    },
    {
     "data": {
      "image/png": "[encoded data removed]",
      "text/plain": [
       "<Figure size 640x480 with 1 Axes>"
      ]
     },
     "metadata": {},
     "output_type": "display_data"
    }
   ],
   "source": [
    "plt.plot(tkeo_serie2[0][:,0])"
   ]
  },
  {
   "cell_type": "markdown",
   "metadata": {},
   "source": [
    "separacion de movs"
   ]
  },
  {
   "cell_type": "code",
   "execution_count": 150,
   "metadata": {},
   "outputs": [],
   "source": [
    "#Se separa de la señal con tkeo\n",
    "movs=[]\n",
    "for i in range(len(tkeo_serie2)):\n",
    "    movsxsuj=[]\n",
    "    for mov in range(7):\n",
    "        mov_type=tkeo_serie2[i][serie2[i][:,-1]==mov]\n",
    "        movsxsuj.append(mov_type) #lista con los 7 movs separados por cada sujeto\n",
    "    movs.append(movsxsuj) #lista con todos los movs por sujeto"
   ]
  },
  {
   "cell_type": "code",
   "execution_count": 118,
   "metadata": {},
   "outputs": [
    {
     "data": {
      "text/plain": [
       "(3531, 8)"
      ]
     },
     "execution_count": 118,
     "metadata": {},
     "output_type": "execute_result"
    }
   ],
   "source": [
    "movs[0][1].shape"
   ]
  },
  {
   "cell_type": "code",
   "execution_count": 119,
   "metadata": {},
   "outputs": [],
   "source": [
    "#guardar todos los tipos de movs en la misma lista\n",
    "mov0=[] \n",
    "mov1=[]\n",
    "mov2=[]\n",
    "mov3=[]\n",
    "mov4=[]\n",
    "mov5=[]\n",
    "mov6=[]\n",
    "for suj in movs:\n",
    "    mov0.append(suj[0])\n",
    "    mov1.append(suj[1])\n",
    "    mov2.append(suj[2])\n",
    "    mov3.append(suj[3])\n",
    "    mov4.append(suj[4])\n",
    "    mov5.append(suj[5])\n",
    "    mov6.append(suj[6])"
   ]
  },
  {
   "cell_type": "code",
   "execution_count": 152,
   "metadata": {},
   "outputs": [
    {
     "data": {
      "text/plain": [
       "[<matplotlib.lines.Line2D at 0x27010f70>]"
      ]
     },
     "execution_count": 152,
     "metadata": {},
     "output_type": "execute_result"
    },
    {
     "data": {
      "image/png": "[encoded data removed]",
      "text/plain": [
       "<Figure size 640x480 with 1 Axes>"
      ]
     },
     "metadata": {},
     "output_type": "display_data"
    }
   ],
   "source": [
    "plt.plot(mov3[32][:,5]) #plotear canal 5 del movimiento tipo 3"
   ]
  },
  {
   "cell_type": "markdown",
   "metadata": {},
   "source": [
    "caracteristicas"
   ]
  },
  {
   "cell_type": "code",
   "execution_count": 157,
   "metadata": {},
   "outputs": [
    {
     "data": {
      "text/plain": [
       "(3717, 8)"
      ]
     },
     "execution_count": 157,
     "metadata": {},
     "output_type": "execute_result"
    }
   ],
   "source": [
    "mov1[6].shape"
   ]
  }
 ],
 "metadata": {
  "kernelspec": {
   "display_name": "Python 3.8.10 64-bit",
   "language": "python",
   "name": "python3"
  },
  "language_info": {
   "codemirror_mode": {
    "name": "ipython",
    "version": 3
   },
   "file_extension": ".py",
   "mimetype": "text/x-python",
   "name": "python",
   "nbconvert_exporter": "python",
   "pygments_lexer": "ipython3",
   "version": "3.8.10"
  },
  "orig_nbformat": 4,
  "vscode": {
   "interpreter": {
    "hash": "fbfb34b5910cb8e3cf8c82c03abf56436d82c8ce1ebe34ee6e2f51eedc81d531"
   }
  }
 },
 "nbformat": 4,
 "nbformat_minor": 2
}
