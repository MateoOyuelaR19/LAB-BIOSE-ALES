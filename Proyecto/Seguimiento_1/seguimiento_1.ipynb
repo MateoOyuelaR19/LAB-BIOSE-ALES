{
 "cells": [
  {
   "cell_type": "code",
   "execution_count": 1,
   "metadata": {},
   "outputs": [],
   "source": [
    "import numpy as np\n",
    "import matplotlib.pyplot as plt"
   ]
  },
  {
   "cell_type": "code",
   "execution_count": 143,
   "metadata": {},
   "outputs": [],
   "source": [
    "#cargar datos\n",
    "import os \n",
    "ruta=os.getcwd()\n",
    "archivo=os.listdir(ruta+'/EMG_data_for_gestures-master')\n",
    "serie1=[] #guardar en matriz tridimensional? para no tener dos series por aparte\n",
    "serie2=[]\n",
    "for i in archivo[0:-1]: #ignora el readme\n",
    "    v=os.listdir(ruta+'/EMG_data_for_gestures-master'+'/'+i)\n",
    "    x1=np.loadtxt(ruta+'/EMG_data_for_gestures-master'+'/'+i+'/'+v[0],skiprows=1,delimiter='\\t',usecols=range(0,9))\n",
    "    x2=np.loadtxt(ruta+'/EMG_data_for_gestures-master'+'/'+i+'/'+v[1],skiprows=1,delimiter='\\t',usecols=range(0,9))\n",
    "    serie1.append(x1)\n",
    "    serie2.append(x2)\n",
    "serie1=np.array(serie1,dtype=object)\n",
    "serie2=np.array(serie2,dtype=object)\n",
    "#serie1[0] -->Serie 1 del primer sujeto y no carga la columna class porque el ultimo dato de la serie 1 del sujeto 34 le falta el valor (creo que es por eso)\n",
    "#se podría arreglar skipeando también la última fila"
   ]
  },
  {
   "cell_type": "markdown",
   "metadata": {},
   "source": [
    "1. Crear una función que reciba la señal de EMG y permita aplicar el operador Teager-Kaiser Energy Operator (TKEO)."
   ]
  },
  {
   "cell_type": "code",
   "execution_count": 48,
   "metadata": {},
   "outputs": [],
   "source": [
    "def tkeo(data): \n",
    "    x=data*1\n",
    "    x[1:-1]=np.square(x[1:-1])-np.multiply(x [0:-2],x[2:]) #aplica la función para todos los datos menos el primero y el último, que no es un problema (describir en análisis)\n",
    "    return x"
   ]
  },
  {
   "cell_type": "code",
   "execution_count": 172,
   "metadata": {},
   "outputs": [
    {
     "data": {
      "text/plain": [
       "[<matplotlib.lines.Line2D at 0x168143a0>]"
      ]
     },
     "execution_count": 172,
     "metadata": {},
     "output_type": "execute_result"
    },
    {
     "data": {
      "image/png": "[encoded data removed]",
      "text/plain": [
       "<Figure size 432x288 with 2 Axes>"
      ]
     },
     "metadata": {
      "needs_background": "light"
     },
     "output_type": "display_data"
    }
   ],
   "source": [
    "#esta es una casilla para probar cosas :)\n",
    "tkeo_channel_1=tkeoall(serie1[0])\n",
    "ts=serie1[0][:,0]\n",
    "plt.subplot(211)\n",
    "plt.plot(ts,serie1[0][:,1]) #canal 1 sujeto 1\n",
    "plt.subplot(212)\n",
    "plt.plot(ts[1:-1],tkeo_serie1[0][:,0][1:-1])\n",
    "#plt.axis([t[0],t[-1],np.min(tkeo_channel_1[1:-1]),np.max(tkeo_channel_1[1:-1])])\n",
    "#np.shape(tkeo_channel_1)"
   ]
  },
  {
   "cell_type": "markdown",
   "metadata": {},
   "source": [
    "2. Crear una función que reciba una señal EMG de múltiples canales y calcule el operador TKEO para cada canal."
   ]
  },
  {
   "cell_type": "code",
   "execution_count": 163,
   "metadata": {},
   "outputs": [],
   "source": [
    "def tkeoall(xdata): #se le entrega la matriz incluyendo la columna del tiempo (no la de class)\n",
    "    data=xdata[:,1:]*1\n",
    "    tkeoforchannel=np.apply_along_axis(tkeo,0,data)\n",
    "    return tkeoforchannel #saca un array donde tkeoall(data)[0] es el primer canal"
   ]
  },
  {
   "cell_type": "markdown",
   "metadata": {},
   "source": [
    "3. Crear una función que reciba una señal EMG de múltiples canales que extraiga las siguientes características para cada canal (10 %):\n",
    "   -  RMS\n",
    "   -  Varianza\n",
    "   -  Mean Absolute Value\n",
    "   -  Mean Absolute Value Slope\n",
    "   -  Slope Sign Changes\n",
    "   -  Wave form length\n",
    "   -  Zero Crossing"
   ]
  },
  {
   "cell_type": "code",
   "execution_count": 6,
   "metadata": {},
   "outputs": [],
   "source": [
    "def rms(x): #x es un array\n",
    "    x_squared=np.square(x)\n",
    "    x_mean=np.mean(x_squared)\n",
    "    xrms=np.sqrt(x_mean)\n",
    "    return xrms"
   ]
  },
  {
   "cell_type": "code",
   "execution_count": 198,
   "metadata": {},
   "outputs": [],
   "source": [
    "#funcion\n",
    "def caracteristicas(xdata): \n",
    "    carac_canales=[]\n",
    "    for i in range(0,np.shape(xdata)[1]): #tal vez se pueda usar apply_along_axis para calcular todas\n",
    "        xx=data[:,i]\n",
    "        xrms=rms(xx) #root mean square\n",
    "        xvar=np.var(xx) #varianza\n",
    "        xmav=np.mean(np.abs(data)) #mean absolute value\n",
    "        xmavs=np.mean(np.abs(np.diff(data))) #mean absolute value slope\n",
    "        derivative = np.diff(data)\n",
    "        xssc = np.sum(np.diff(np.sign(derivative)) != 0) #Slope sign changes\n",
    "        diff_abs = np.abs(np.diff(data))\n",
    "        xwl = np.sum(diff_abs) #waveform length\n",
    "        xzc = len(np.where(np.diff(np.sign(data)))[0]) #zero crossings\n",
    "        carac_canal_actual=[xrms,xvar,xmav,xmavs,xssc,xwl,xzc]\n",
    "        carac_canales.append(carac_canal_actual)\n",
    "    return np.array(carac_canales)\n",
    "#caracteristicas(serie1[0])[0]\n"
   ]
  },
  {
   "cell_type": "markdown",
   "metadata": {},
   "source": [
    "4. Crear una rutina que aplique sobre todo los archivos de la base de datos las funciones descritas en 2 y 3 (5 %)"
   ]
  },
  {
   "cell_type": "code",
   "execution_count": 210,
   "metadata": {},
   "outputs": [],
   "source": [
    "#tkeo_sujetos=np.apply_along_axis(tkeoall,0,serie1) por algún motivo, esto no funciona. Y es una lástima\n",
    "tkeo_serie1=[]\n",
    "for i in range(0,np.shape(serie1)[0]):\n",
    "    tkeo_serie1.append((tkeoall(serie1[i]))) \n",
    "carac_tkeo_serie1=[] #carac_tkeo_serie2[0][0] primer sujeto, primer canal\n",
    "for i in range(0,len(tkeo_serie1)):\n",
    "    carac_tkeo_serie1.append((caracteristicas(tkeo_serie1[i])))\n",
    "    #carac_serie1[0][0] -->valores para el primer canal de la primera serie del primer sujeto"
   ]
  },
  {
   "cell_type": "code",
   "execution_count": 204,
   "metadata": {},
   "outputs": [],
   "source": [
    "#ahora lo mismo, pero para la serie 2\n",
    "tkeo_serie2=[]\n",
    "for i in range(0,np.shape(serie2)[0]):\n",
    "    tkeo_serie2.append((tkeoall(serie2[i]))) \n",
    "carac_tkeo_serie2=[] #carac_tkeo_serie2[0][0] primer sujeto, primer canal\n",
    "for i in range(0,len(tkeo_serie2)):\n",
    "    carac_tkeo_serie2.append((caracteristicas(tkeo_serie2[i])))"
   ]
  },
  {
   "cell_type": "markdown",
   "metadata": {},
   "source": [
    "5. Crear una rutina que aplique sobre todo los archivos de la base de datos las función 3 sobre las señales originales"
   ]
  },
  {
   "cell_type": "code",
   "execution_count": 216,
   "metadata": {},
   "outputs": [],
   "source": [
    "carac_serie1=[]\n",
    "for i in range(0,len(serie1)):\n",
    "    carac_serie1.append((caracteristicas(serie1[i])))\n",
    "carac_serie2=[] #carac_serie[0][0] sujeto 1,canal1\n",
    "for i in range(0,len(serie2)):\n",
    "    carac_serie2.append((caracteristicas(serie2[i])))"
   ]
  },
  {
   "cell_type": "markdown",
   "metadata": {},
   "source": [
    "Almacene las métricas obtenidas en el ítem 4 y 5 en un dataframe, en donde haya una columna que discrimine si las características provienen de una señal con TKEO o sin TKEO."
   ]
  },
  {
   "cell_type": "code",
   "execution_count": null,
   "metadata": {},
   "outputs": [],
   "source": []
  },
  {
   "cell_type": "markdown",
   "metadata": {},
   "source": [
    "Realice un análisis exploratorio de los datos (Estadística descriptiva) teniendo como base la teoría vista en clase (Diagramas de cajas, gráficos, medidas de tendencia central)"
   ]
  },
  {
   "cell_type": "code",
   "execution_count": null,
   "metadata": {},
   "outputs": [],
   "source": []
  }
 ],
 "metadata": {
  "kernelspec": {
   "display_name": "Python 3.8.5 ('base')",
   "language": "python",
   "name": "python3"
  },
  "language_info": {
   "codemirror_mode": {
    "name": "ipython",
    "version": 3
   },
   "file_extension": ".py",
   "mimetype": "text/x-python",
   "name": "python",
   "nbconvert_exporter": "python",
   "pygments_lexer": "ipython3",
   "version": "3.8.5"
  },
  "orig_nbformat": 4,
  "vscode": {
   "interpreter": {
    "hash": "ad2bdc8ecc057115af97d19610ffacc2b4e99fae6737bb82f5d7fb13d2f2c186"
   }
  }
 },
 "nbformat": 4,
 "nbformat_minor": 2
}
