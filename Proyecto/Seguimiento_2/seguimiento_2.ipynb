{
 "cells": [
  {
   "cell_type": "code",
   "execution_count": 5,
   "metadata": {},
   "outputs": [],
   "source": [
    "import numpy as np\n",
    "import matplotlib.pyplot as plt"
   ]
  },
  {
   "cell_type": "code",
   "execution_count": null,
   "metadata": {},
   "outputs": [],
   "source": [
    "#Aquí cargar archivos\n",
    "#guardarlos en una lista llamada sujetos\n",
    "sujetos=[]"
   ]
  },
  {
   "cell_type": "code",
   "execution_count": 31,
   "metadata": {},
   "outputs": [],
   "source": [
    "#operador tkeo\n",
    "def tkeo(data): \n",
    "    x=data*1\n",
    "    x[1:-1]=np.square(x[1:-1])-np.multiply(x [0:-2],x[2:]) #aplica la función para todos los datos menos el primero y el último, que no es un problema (describir en análisis)\n",
    "    return x[1:-1]"
   ]
  },
  {
   "cell_type": "code",
   "execution_count": 8,
   "metadata": {},
   "outputs": [],
   "source": [
    "def rms(x): #x es un array\n",
    "    x_squared=np.square(x)\n",
    "    x_mean=np.mean(x_squared)\n",
    "    xrms=np.sqrt(x_mean)\n",
    "    return xrms"
   ]
  },
  {
   "cell_type": "code",
   "execution_count": 7,
   "metadata": {},
   "outputs": [],
   "source": [
    "def caracteristicas(data): \n",
    "    caracs={'xrms':'','xvar':'','xmav':'','xmavs':'','xssc':'','xwl':'','xzc':''}\n",
    "    xrms=rms(data) #root mean square\n",
    "    caracs['xrms']=xrms\n",
    "    xvar=np.var(data) #varianza\n",
    "    caracs['xvar']=xvar\n",
    "    xmav=np.mean(np.abs(data)) #mean absolute value\n",
    "    caracs['xmav']=xmav\n",
    "    xmavs=np.mean(np.abs(np.diff(data))) #mean absolute value slope\n",
    "    caracs['xmavs']=xmavs\n",
    "    derivative = np.diff(data)\n",
    "    xssc = np.sum(np.diff(np.sign(derivative)) != 0) #Slope sign changes\n",
    "    caracs['xssc']=xssc\n",
    "    diff_abs = np.abs(np.diff(data))\n",
    "    xwl = np.sum(diff_abs) #waveform length\n",
    "    caracs['xwl']=xwl\n",
    "    xzc = len(np.where(np.diff(np.sign(data)))[0]) #zero crossings\n",
    "    caracs['xzc']=xzc\n",
    "    return caracs"
   ]
  },
  {
   "cell_type": "code",
   "execution_count": 19,
   "metadata": {},
   "outputs": [],
   "source": [
    "#calculo de caracteristicas de todos los sujetos \n",
    "caracs=[]\n",
    "for sujeto in sujetos:\n",
    "    car=caracteristicas(sujeto)\n",
    "    caracs.append(car)\n",
    "#Hacerlo como función mejor?"
   ]
  },
  {
   "cell_type": "code",
   "execution_count": 18,
   "metadata": {},
   "outputs": [],
   "source": [
    "t=np.arange(0,2*np.pi,0.01)\n",
    "test_signal1=np.sin(t)\n",
    "test_signal2=np.sin(2*t)"
   ]
  }
 ],
 "metadata": {
  "kernelspec": {
   "display_name": "Python 3.8.5 ('base')",
   "language": "python",
   "name": "python3"
  },
  "language_info": {
   "codemirror_mode": {
    "name": "ipython",
    "version": 3
   },
   "file_extension": ".py",
   "mimetype": "text/x-python",
   "name": "python",
   "nbconvert_exporter": "python",
   "pygments_lexer": "ipython3",
   "version": "3.8.5"
  },
  "orig_nbformat": 4,
  "vscode": {
   "interpreter": {
    "hash": "ad2bdc8ecc057115af97d19610ffacc2b4e99fae6737bb82f5d7fb13d2f2c186"
   }
  }
 },
 "nbformat": 4,
 "nbformat_minor": 2
}
