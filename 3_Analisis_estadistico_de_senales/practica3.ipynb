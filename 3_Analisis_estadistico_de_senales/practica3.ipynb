{
 "cells": [
  {
   "cell_type": "code",
   "execution_count": 1,
   "metadata": {},
   "outputs": [],
   "source": [
    "import numpy as np\n",
    "import matplotlib.pyplot as plt\n",
    "import scipy.io"
   ]
  },
  {
   "cell_type": "code",
   "execution_count": null,
   "metadata": {},
   "outputs": [],
   "source": [
    "def xrms(N,x): #verificar que funcione, no se ha probado. N posiblemente se entregue como array entonces habría que modificar o tenerlo en cuenta al usarse. x sí debe ser un array\n",
    "    x=0\n",
    "    for i in range(N):\n",
    "        rms=x^2\n",
    "        x=x+rms\n",
    "    xrms=((1/N)*x)^(1/2)\n",
    "    return xrms\n",
    "    \n"
   ]
  },
  {
   "cell_type": "code",
   "execution_count": 2,
   "metadata": {},
   "outputs": [
    {
     "data": {
      "text/plain": [
       "{'__header__': b'MATLAB 5.0 MAT-file, Platform: GLNXA64, Created on: Mon Apr 20 15:20:29 2015',\n",
       " '__version__': '1.0',\n",
       " '__globals__': [],\n",
       " 'Fs': array([[1024]], dtype=uint16),\n",
       " 'ECG_asRecording': array([[3904.31689453, 3939.203125  , 3976.00683594, ..., 4366.41064453,\n",
       "         4365.31103516, 4370.91796875]]),\n",
       " 'ECG_filtered': array([[ 8.87103896e-03,  5.62737497e+01,  8.57077127e+01, ...,\n",
       "         -1.20952610e+02, -1.31734356e+02, -1.32898021e+02]]),\n",
       " 'EMG_filtered1': array([[ 17.65905117,  19.41391578,  18.89666666, ..., 242.49414224,\n",
       "         220.4135886 , 151.5810508 ]]),\n",
       " 'EMG_filtered2': array([[  21.1780547 ,  -79.82418538, -133.65960989, ..., -384.58994036,\n",
       "         -539.9349533 , -772.65519631]]),\n",
       " 'EMG_asRecording1': array([[ 908.07531738,  903.17706299,  896.62982178, ..., 1433.91882324,\n",
       "         1416.109375  , 1352.75012207]]),\n",
       " 'EMG_asRecording2': array([[-3109.97558594, -3231.01391602, -3302.34960938, ...,\n",
       "         -3791.24267578, -3924.6550293 , -4109.94433594]])}"
      ]
     },
     "execution_count": 2,
     "metadata": {},
     "output_type": "execute_result"
    }
   ],
   "source": [
    "#Lectura de los datos\n",
    "data=scipy.io.loadmat('signals.mat')\n",
    "data"
   ]
  }
 ],
 "metadata": {
  "kernelspec": {
   "display_name": "Python 3.8.10 64-bit",
   "language": "python",
   "name": "python3"
  },
  "language_info": {
   "codemirror_mode": {
    "name": "ipython",
    "version": 3
   },
   "file_extension": ".py",
   "mimetype": "text/x-python",
   "name": "python",
   "nbconvert_exporter": "python",
   "pygments_lexer": "ipython3",
   "version": "3.8.10"
  },
  "orig_nbformat": 4,
  "vscode": {
   "interpreter": {
    "hash": "fbfb34b5910cb8e3cf8c82c03abf56436d82c8ce1ebe34ee6e2f51eedc81d531"
   }
  }
 },
 "nbformat": 4,
 "nbformat_minor": 2
}
