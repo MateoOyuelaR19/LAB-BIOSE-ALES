{
 "cells": [
  {
   "cell_type": "code",
   "execution_count": 1,
   "metadata": {},
   "outputs": [],
   "source": [
    "import numpy as np;\n",
    "import matplotlib.pyplot as plt;\n",
    "import scipy.io as sio;\n",
    "from scipy.fftpack import fft, ifft;"
   ]
  },
  {
   "cell_type": "code",
   "execution_count": 2,
   "metadata": {},
   "outputs": [],
   "source": [
    "#Cargar datos control\n",
    "import os\n",
    "directorio_actual=os.getcwd()\n",
    "archivos=os.listdir(directorio_actual+'/control')\n",
    "fs = 1000 #frec muestreo\n",
    "num_canales = 8 #Channels = 'C3' 'C1' 'CZ' 'C2' 'C4' 'O1' 'OZ' 'O2'\n",
    "control=[]\n",
    "for i in range(0,len(archivos)):\n",
    "    sujeto_i=directorio_actual+'/control'+'/'+archivos[i]\n",
    "    data=sio.loadmat(sujeto_i)\n",
    "    data=data['data'] #en el dataset 'data' corresponde a los datos --> matriz 3d \n",
    "    #control=np.reshape(data,(data.shape[0],data.shape[1]*data.shape[2]),order='F') #matriz 3d --> 2d\n",
    "    control.append(data)\n"
   ]
  },
  {
   "cell_type": "code",
   "execution_count": 3,
   "metadata": {},
   "outputs": [],
   "source": [
    "#cargar datos parkinson\n",
    "archivos=os.listdir(directorio_actual+'/parkinson')\n",
    "parkinson=[]\n",
    "for i in range(0,len(archivos)):\n",
    "    sujeto_i=directorio_actual+'/parkinson'+'/'+archivos[i]\n",
    "    data=sio.loadmat(sujeto_i)\n",
    "    data=data['data'] #en el dataset 'data' corresponde a los datos --> matriz 3d \n",
    "    #parkinson=np.reshape(data,(data.shape[0],data.shape[1]*data.shape[2]),order='F') #matriz 3d --> 2d\n",
    "    parkinson.append(data)"
   ]
  },
  {
   "cell_type": "markdown",
   "metadata": {},
   "source": [
    "1. Implemente una función que reciba una señal de múltiples canales y épocas y calcule la Energía de promedio de cada canal."
   ]
  },
  {
   "cell_type": "code",
   "execution_count": 4,
   "metadata": {},
   "outputs": [],
   "source": [
    "def average_energy(data): #data en 3d (canales,puntos,epocas)\n",
    "    data_reshape=np.reshape(data,(data.shape[0],data.shape[1]*data.shape[2]),order='F') #convertir a 2d\n",
    "    abs_squared=np.apply_along_axis(np.square,1,np.abs(data_reshape)) #valor absoluto al cuadrado, sumatoria de esto=energia\n",
    "    energy=np.apply_along_axis(np.mean,1,abs_squared) #promedio\n",
    "    return energy #devuelve array con la energía promedio de cada canal "
   ]
  },
  {
   "cell_type": "markdown",
   "metadata": {},
   "source": [
    "2. Calcule la energía de cada canal promediada por épocas para cada sujeto, esto para ambos grupos poblacionales. Guarde esta información en un DataFrame de columnas 'canal' y filas '#sujeto' con los valores de energía calculados. Un DataFrame para cada grupo poblacional."
   ]
  },
  {
   "cell_type": "code",
   "execution_count": 5,
   "metadata": {},
   "outputs": [
    {
     "name": "stderr",
     "output_type": "stream",
     "text": [
      "C:\\Users\\MATEO\\AppData\\Local\\Temp\\ipykernel_17444\\1517922791.py:2: DeprecationWarning: \n",
      "Pyarrow will become a required dependency of pandas in the next major release of pandas (pandas 3.0),\n",
      "(to allow more performant data types, such as the Arrow string type, and better interoperability with other libraries)\n",
      "but was not found to be installed on your system.\n",
      "If this would cause problems for you,\n",
      "please provide us feedback at https://github.com/pandas-dev/pandas/issues/54466\n",
      "        \n",
      "  import pandas as pd\n"
     ]
    },
    {
     "name": "stdout",
     "output_type": "stream",
     "text": [
      "    sujeto    canal 1    canal 2    canal 3    canal 4    canal 5     canal 6  \\\n",
      "0        1  10.732825  10.492954  11.380075   9.252820  14.865082   12.622079   \n",
      "1        2   7.983201   8.808905  10.402469   9.827200   8.339491   46.947025   \n",
      "2        3   7.074337   9.142000  14.374966   7.135363  14.393723    7.330709   \n",
      "3        4  17.655651  17.458343  19.400215  17.713516  17.952736   53.299064   \n",
      "4        5   9.255415   9.869245  10.455896  10.914127  11.675996   26.543030   \n",
      "5        6   6.590055   6.962609   8.109497   6.162442   7.030150   12.883512   \n",
      "6        7   5.598777   5.474184   6.368502   5.372581   5.164821   10.730803   \n",
      "7        8  14.275562  13.102420   8.691999   8.622303  13.103186   41.685309   \n",
      "8        9   4.566518   4.607078   5.813206   5.404811   5.233940   23.168437   \n",
      "9       10  23.583278  27.553899  26.143442  17.341328  15.303060  113.522867   \n",
      "10      11   8.783733  10.869256  14.714654  14.265100  12.293204   36.636914   \n",
      "11      12  15.625254  12.111388  14.149056  12.689389  16.539726  120.417551   \n",
      "12      13  17.018251  17.638121  18.864017  15.201506  16.127512   74.902462   \n",
      "13      14   2.457531   3.052925   2.583776   2.068859   2.051998   10.179793   \n",
      "14      15  12.903799  15.574167  14.320193  10.512889   9.125902   74.112767   \n",
      "15      16   7.768116  13.585777  15.647562  11.018580   7.690989   26.216552   \n",
      "16      17  16.550496  18.541815  24.105410  18.879197  14.171591   50.585307   \n",
      "17      18  27.069631  24.552809  26.597065  28.612122  28.412351  119.831454   \n",
      "18      19   3.526748   3.241680   3.366815   3.233325   3.353681    8.642523   \n",
      "19      20   4.851287   4.155300   5.637089   3.569491   5.143035    8.075745   \n",
      "20      21   8.118918   6.449950   6.193142   6.083929   9.639971   28.884272   \n",
      "21      22   6.676279   6.039521   6.028376   6.768551   6.709135   19.441852   \n",
      "22      23   5.960314   6.190554   5.772949   5.808115   9.329209   21.029228   \n",
      "23      24   7.399127  12.689970   7.178010   6.144328   5.847484   16.746774   \n",
      "24      25  11.665725  10.897084  10.028530   9.351681  10.595602   45.681023   \n",
      "25      26   5.920105  13.226274   7.605668   6.488379   7.188546    3.607601   \n",
      "26      27  22.726867  21.330113  22.069723  25.414967  29.630847  126.907992   \n",
      "27      28   5.358590   4.339182   1.418965   2.123599   3.970401   12.360775   \n",
      "28      29  13.824481  15.158297  18.795676  12.905626  13.916032   11.054192   \n",
      "29      30  16.160636  18.851899  21.306986  14.626205  13.445428   34.121809   \n",
      "30      31  13.703095  10.524941  22.541206  24.746339  20.112629   21.150936   \n",
      "31      32  22.237855  34.294858  38.740979  39.893348  35.193218  172.686667   \n",
      "32      33   8.262932   9.037356  12.532404  11.473176  12.168681   35.058403   \n",
      "33      34   5.709860   6.949654   7.846712   4.655399   4.959542   19.277897   \n",
      "34      35   8.136413   6.537963   6.887721   6.397599   7.011230   35.315504   \n",
      "35      36  10.532455   8.852038   9.152811  11.219222  11.207560   21.672296   \n",
      "\n",
      "       canal 7     canal 8  \n",
      "0    11.390664   12.329300  \n",
      "1    33.431248   37.842563  \n",
      "2     7.970077    9.749949  \n",
      "3    53.442788   56.260375  \n",
      "4    18.747986   21.533548  \n",
      "5    10.967880   11.413891  \n",
      "6     7.746606   13.707188  \n",
      "7    25.560553   33.926174  \n",
      "8    22.847901   25.043181  \n",
      "9   112.445515  161.086216  \n",
      "10   34.376993   33.981398  \n",
      "11   78.015020  139.047679  \n",
      "12   97.109294  135.080579  \n",
      "13    8.799481   11.146115  \n",
      "14   61.977140   69.550354  \n",
      "15   26.094075   23.035916  \n",
      "16   43.912402   68.571962  \n",
      "17   97.441002  190.816979  \n",
      "18    8.302505    9.175121  \n",
      "19    7.865648   10.478360  \n",
      "20   26.791178   34.429649  \n",
      "21   18.980007   18.523418  \n",
      "22   17.208890   23.083874  \n",
      "23   16.223706   17.780930  \n",
      "24   30.452121   26.670664  \n",
      "25    7.932451    9.736435  \n",
      "26  107.272045  123.991336  \n",
      "27   10.531051    9.780701  \n",
      "28    8.303842    7.065719  \n",
      "29   26.208961   36.057925  \n",
      "30   16.594332   17.078778  \n",
      "31  107.836997  149.439279  \n",
      "32   31.754510   35.945724  \n",
      "33   18.334540   24.479405  \n",
      "34   35.036197   34.771811  \n",
      "35   18.365906   22.945410  \n"
     ]
    }
   ],
   "source": [
    "#Para controles\n",
    "import pandas as pd\n",
    "datos={'sujeto':[],'canal 1':[],'canal 2':[],'canal 3':[],'canal 4':[],'canal 5':[],'canal 6':[],'canal 7':[],'canal 8':[]}\n",
    "for sujeto in range(len(control)):\n",
    "    avrg_energy=average_energy(control[sujeto])\n",
    "    datos['sujeto'].append(sujeto+1)\n",
    "    for canal in range(len(avrg_energy)): \n",
    "        datos[f'canal {canal+1}'].append(avrg_energy[canal])\n",
    "df_control=pd.DataFrame(datos)\n",
    "print(df_control) #nombrar los canales como los electrodos?"
   ]
  },
  {
   "cell_type": "code",
   "execution_count": 6,
   "metadata": {},
   "outputs": [
    {
     "name": "stdout",
     "output_type": "stream",
     "text": [
      "    sujeto    canal 1    canal 2    canal 3    canal 4    canal 5     canal 6  \\\n",
      "0        1   6.219122   5.630588   5.409817   4.744892   6.045530   11.399107   \n",
      "1        2   8.997830   6.000801   6.143172   7.392954   8.529217   31.991725   \n",
      "2        3  19.046051  21.787690  20.989997  20.857644  23.256869  125.824697   \n",
      "3        4  11.871163  11.035004  12.270158  10.901968  11.297170   64.157132   \n",
      "4        5  24.287259  25.903265  36.585976  29.853850  28.276088  143.552881   \n",
      "5        6   8.101208   6.562124   6.994337   6.376014   7.892362   25.365117   \n",
      "6        7   5.346474   5.420594   6.077195  12.080843   7.394587   21.651413   \n",
      "7        8   6.078615   6.699329   8.834439   7.420552   5.648871   19.350824   \n",
      "8        9   4.790905   7.004286   4.794615   4.687043   4.077471   14.485424   \n",
      "9       10  11.829369  11.995128  15.316873  11.444447   9.966158   32.580716   \n",
      "10      11  11.723026  13.045671  18.320266  12.830111  15.665275   46.848064   \n",
      "11      12  24.461937  32.162385  42.587957  39.043613  32.896313  229.315772   \n",
      "12      13   7.266230   8.930096  15.060492  14.784637  15.027486   11.044091   \n",
      "13      14  14.701098  15.607296  15.331985  12.348671  12.648327   33.980558   \n",
      "14      15  11.017417  10.625467  13.684775   6.598778   9.186668   42.699362   \n",
      "15      16  16.950070  16.197734  14.597414  11.719557  12.520203   61.369009   \n",
      "16      17   8.849514  13.321640  16.234421  12.780978  11.707812   28.647067   \n",
      "17      18  15.566663  10.949996   8.576554  10.266717  15.932188   39.898893   \n",
      "18      19  24.968917  23.015248  23.373253  21.554651  21.461634  212.419060   \n",
      "19      20   8.388289  10.234343  12.660311  12.018236  10.361866   38.195678   \n",
      "20      21  16.094156  15.579789  16.176133  14.405465  12.684312   29.763107   \n",
      "21      22   5.465114   7.335274  10.811949   7.724626   6.735518   14.487192   \n",
      "22      23   8.000803   6.839050   8.012237   7.241058   7.361922   15.721527   \n",
      "\n",
      "       canal 7     canal 8  \n",
      "0    11.850310   12.803033  \n",
      "1    26.857730   33.201820  \n",
      "2    89.672719  131.180590  \n",
      "3    64.444243   76.399642  \n",
      "4   111.372897  176.656149  \n",
      "5    25.371119   36.847031  \n",
      "6    21.280471   19.521987  \n",
      "7    20.914487   30.664305  \n",
      "8    20.352949   18.312429  \n",
      "9    30.276417   29.220524  \n",
      "10   33.845454   55.562172  \n",
      "11  200.133319  277.063790  \n",
      "12    9.131259    9.227034  \n",
      "13   37.433090   51.761221  \n",
      "14   29.974390   36.183905  \n",
      "15   51.663750   50.422922  \n",
      "16   27.414826   29.850437  \n",
      "17   37.076406   33.248912  \n",
      "18  141.672774  204.451013  \n",
      "19   30.299565   40.792706  \n",
      "20   33.102066   34.518485  \n",
      "21   15.734714   16.267961  \n",
      "22   14.095981   16.558711  \n"
     ]
    }
   ],
   "source": [
    "#Para parkinson\n",
    "import pandas as pd\n",
    "datos={'sujeto':[],'canal 1':[],'canal 2':[],'canal 3':[],'canal 4':[],'canal 5':[],'canal 6':[],'canal 7':[],'canal 8':[]}\n",
    "for sujeto in range(len(parkinson)):\n",
    "    avrg_energy=average_energy(parkinson[sujeto])\n",
    "    datos['sujeto'].append(sujeto+1)\n",
    "    for canal in range(len(avrg_energy)): \n",
    "        datos[f'canal {canal+1}'].append(avrg_energy[canal])\n",
    "df_parkinson=pd.DataFrame(datos)\n",
    "print(df_parkinson)"
   ]
  },
  {
   "cell_type": "markdown",
   "metadata": {},
   "source": [
    "3. Determine si existe diferencia estadística significativa entre canales de cada grupo de sujetos a través de una prueba t. Compruebe los supuestos necesarios par realizar una prueba t, esto es: normalidad de la variable, independencia (se asume que los grupos son independientes) y homocedasticidad (use una prueba de Levene), finalmente realice la prueba t para determinar si existen diferencias entre los canales entre grupos de sujetos. De no cumplirse los requisitos, realice entonces un análisis no paramétrico (prueba U de Mann-Whitney). Este numeral tiene como objetivo identificar los canales que entregan información diferencial entre pacientes sanos y con enfermedad de parkinson."
   ]
  },
  {
   "cell_type": "code",
   "execution_count": 7,
   "metadata": {},
   "outputs": [],
   "source": [
    "#convertir datos continuos\n",
    "#control\n",
    "control_continuo=[]\n",
    "for i in control:\n",
    "    control_continuo.append(np.reshape(i,(i.shape[0],i.shape[1]*i.shape[2]),order='F'))\n",
    "#parkinson\n",
    "parkinson_continuo=[]\n",
    "for i in parkinson:\n",
    "    parkinson_continuo.append(np.reshape(i,(i.shape[0],i.shape[1]*i.shape[2]),order='F'))"
   ]
  },
  {
   "cell_type": "code",
   "execution_count": 8,
   "metadata": {},
   "outputs": [],
   "source": [
    "#librerias\n",
    "from scipy import stats\n",
    "#valor significancia\n",
    "alpha=0.05"
   ]
  },
  {
   "cell_type": "markdown",
   "metadata": {},
   "source": [
    "Supuesto de normalidad para controles"
   ]
  },
  {
   "cell_type": "code",
   "execution_count": 9,
   "metadata": {},
   "outputs": [],
   "source": [
    "#Prueba de normallidad en controles. Ciertamente, no siguen esta distribución.\n",
    "p_values_for_channels=[]\n",
    "for i in control_continuo:\n",
    "    result=np.apply_along_axis(stats.normaltest,1,i) #[statistic,pvalue]\n",
    "    pval=result[:,1] #toma sólo los pvalues\n",
    "    p_values_for_channels.append(pval) #lista con los pvalues de cada canal para cada sujeto"
   ]
  },
  {
   "cell_type": "code",
   "execution_count": 10,
   "metadata": {},
   "outputs": [
    {
     "name": "stdout",
     "output_type": "stream",
     "text": [
      "Ninguno de los canales de los controles sigue una distribución normal.\n"
     ]
    }
   ],
   "source": [
    "#codigo para comprobar normalidad bajo la suposición que ninguno dsitribuye normal\n",
    "normality_results = []\n",
    "for p_values in p_values_for_channels:\n",
    "    any_normal = any(p >= alpha for p in p_values)\n",
    "    normality_results.append(any_normal)\n",
    "if any(normality_results):\n",
    "    print(\"Al menos uno de los canales de los controles sigue una distribución normal.\")\n",
    "else:\n",
    "    print(\"Ninguno de los canales de los controles sigue una distribución normal.\")"
   ]
  },
  {
   "cell_type": "markdown",
   "metadata": {},
   "source": [
    "Supuesto de normalidad para sujetos con parkinson"
   ]
  },
  {
   "cell_type": "code",
   "execution_count": 11,
   "metadata": {},
   "outputs": [],
   "source": [
    "#Prueba de normallidad en parkinson. Ciertamente, no siguen esta distribución.\n",
    "p_values_for_channels=[]\n",
    "for i in parkinson_continuo:\n",
    "    result=np.apply_along_axis(stats.normaltest,1,i) #[statistic,pvalue]\n",
    "    pval=result[:,1] #toma sólo los pvalues\n",
    "    p_values_for_channels.append(pval) #lista con los pvalues de cada canal para cada sujeto"
   ]
  },
  {
   "cell_type": "code",
   "execution_count": 12,
   "metadata": {},
   "outputs": [
    {
     "name": "stdout",
     "output_type": "stream",
     "text": [
      "Ninguno de los canales de parkinson sigue una distribución normal.\n"
     ]
    }
   ],
   "source": [
    "#codigo para comprobar normalidad bajo la suposición que ninguno dsitribuye normal\n",
    "normality_results = []\n",
    "for p_values in p_values_for_channels:\n",
    "    any_normal = any(p >= alpha for p in p_values)\n",
    "    normality_results.append(any_normal)\n",
    "if any(normality_results):\n",
    "    print(\"Al menos uno de los canales de parkinson sigue una distribución normal.\")\n",
    "else:\n",
    "    print(\"Ninguno de los canales de parkinson sigue una distribución normal.\")"
   ]
  },
  {
   "cell_type": "markdown",
   "metadata": {},
   "source": [
    "Supuesto de homocedasticidad para controles"
   ]
  },
  {
   "cell_type": "code",
   "execution_count": 13,
   "metadata": {},
   "outputs": [
    {
     "name": "stdout",
     "output_type": "stream",
     "text": [
      "Al menos un canal en el grupo de controles no cumple con el supuesto de homocedasticidad.\n"
     ]
    }
   ],
   "source": [
    "# Homocedasticidad en controles\n",
    "homoscedasticity_results_control = []\n",
    "for subject_data in control_continuo:\n",
    "    statistic, pvalue = stats.levene(*subject_data)\n",
    "    if pvalue > alpha:\n",
    "        homoscedasticity_results_control.append(True)\n",
    "    else:\n",
    "        homoscedasticity_results_control.append(False)\n",
    "\n",
    "if all(homoscedasticity_results_control):\n",
    "    print(\"Todos los canales en el grupo de controles cumplen con el supuesto de homocedasticidad.\")\n",
    "else:\n",
    "    print(\"Al menos un canal en el grupo de controles no cumple con el supuesto de homocedasticidad.\")"
   ]
  },
  {
   "cell_type": "code",
   "execution_count": 20,
   "metadata": {},
   "outputs": [
    {
     "name": "stdout",
     "output_type": "stream",
     "text": [
      "Los siguientes canales en el grupo de controles no cumplen con el supuesto de homocedasticidad: [1, 2, 3, 4, 5, 6, 7, 8, 9, 10, 11, 12, 13, 14, 15, 16, 17, 18, 19, 20, 21, 22, 23, 24, 25, 26, 27, 28, 29, 30, 31, 32, 33, 34, 35, 36]\n"
     ]
    }
   ],
   "source": [
    "# Identificar canales que no cumplen con homocedasticidad en controles\n",
    "channels_without_homoscedasticity_control = []\n",
    "for idx, subject_data in enumerate(control_continuo):\n",
    "    statistic, pvalue = stats.levene(*subject_data)\n",
    "    if pvalue <= alpha:\n",
    "        channels_without_homoscedasticity_control.append(idx + 1)  # Sumar 1 para obtener el número de canal\n",
    "\n",
    "if len(channels_without_homoscedasticity_control) > 0:\n",
    "    print(\"Los siguientes canales en el grupo de controles no cumplen con el supuesto de homocedasticidad:\", channels_without_homoscedasticity_control)\n",
    "else:\n",
    "    print(\"Todos los canales en el grupo de controles cumplen con el supuesto de homocedasticidad.\")"
   ]
  },
  {
   "cell_type": "markdown",
   "metadata": {},
   "source": [
    "Supuesto de homocedasticidad para sujetos con parkinson"
   ]
  },
  {
   "cell_type": "code",
   "execution_count": 21,
   "metadata": {},
   "outputs": [
    {
     "name": "stdout",
     "output_type": "stream",
     "text": [
      "Al menos un canal en el grupo de sujetos con Parkinson no cumple con el supuesto de homocedasticidad.\n",
      "0.05\n"
     ]
    }
   ],
   "source": [
    "# Homocedasticidad en parkinson\n",
    "homoscedasticity_results_parkinson = []\n",
    "for subject_data in parkinson_continuo:\n",
    "    statistic, pvalue = stats.levene(*subject_data)\n",
    "    if pvalue > alpha:\n",
    "        homoscedasticity_results_parkinson.append(True)\n",
    "    else:\n",
    "        homoscedasticity_results_parkinson.append(False)\n",
    "\n",
    "if all(homoscedasticity_results_parkinson):\n",
    "    print(\"Todos los canales en el grupo de sujetos con Parkinson cumplen con el supuesto de homocedasticidad.\")\n",
    "else:\n",
    "    print(\"Al menos un canal en el grupo de sujetos con Parkinson no cumple con el supuesto de homocedasticidad.\")\n",
    "print (alpha)"
   ]
  },
  {
   "cell_type": "code",
   "execution_count": 24,
   "metadata": {},
   "outputs": [
    {
     "name": "stdout",
     "output_type": "stream",
     "text": [
      "Los siguientes canales en el grupo de sujetos con Parkinson no cumplen con el supuesto de homocedasticidad: [1, 2, 3, 4, 5, 6, 7, 8, 9, 10, 11, 12, 13, 14, 15, 16, 17, 18, 19, 20, 21, 22, 23]\n"
     ]
    }
   ],
   "source": [
    "# Identificar canales que no cumplen con homocedasticidad en parkinson\n",
    "channels_without_homoscedasticity_parkinson = []\n",
    "for idx, subject_data in enumerate(parkinson_continuo):\n",
    "    statistic, pvalue = stats.levene(*subject_data)\n",
    "    if pvalue <= alpha:\n",
    "        channels_without_homoscedasticity_parkinson.append(idx + 1)  # Sumar 1 para obtener el número de canal\n",
    "\n",
    "if len(channels_without_homoscedasticity_parkinson) > 0:\n",
    "    print(\"Los siguientes canales en el grupo de sujetos con Parkinson no cumplen con el supuesto de homocedasticidad:\", channels_without_homoscedasticity_parkinson)\n",
    "else:\n",
    "    print(\"Todos los canales en el grupo de sujetos con Parkinson cumplen con el supuesto de homocedasticidad.\")"
   ]
  },
  {
   "cell_type": "markdown",
   "metadata": {},
   "source": [
    "Prueba de Mann-Whitney para controles"
   ]
  },
  {
   "cell_type": "code",
   "execution_count": 25,
   "metadata": {},
   "outputs": [
    {
     "name": "stdout",
     "output_type": "stream",
     "text": [
      "No existe diferencia estadística entre los canales 1 y 2 en el grupo de controles.\n"
     ]
    }
   ],
   "source": [
    "# Prueba de Mann-Whitney para controles\n",
    "statistic, pvalue = stats.mannwhitneyu(df_control['canal 1'], df_control['canal 2'])\n",
    "if pvalue < alpha:\n",
    "    print(\"Existe diferencia estadística entre los canales 1 y 2 en el grupo de controles.\")\n",
    "else:\n",
    "    print(\"No existe diferencia estadística entre los canales 1 y 2 en el grupo de controles.\")"
   ]
  },
  {
   "cell_type": "markdown",
   "metadata": {},
   "source": [
    "Prueba de Mann-Whitney para sujetos con Parkinson"
   ]
  },
  {
   "cell_type": "code",
   "execution_count": 26,
   "metadata": {},
   "outputs": [
    {
     "name": "stdout",
     "output_type": "stream",
     "text": [
      "No existe diferencia estadística entre los canales 1 y 2 en el grupo de sujetos con Parkinson.\n"
     ]
    }
   ],
   "source": [
    "# Prueba de Mann-Whitney para parkinson\n",
    "statistic, pvalue = stats.mannwhitneyu(df_parkinson['canal 1'], df_parkinson['canal 2'])\n",
    "if pvalue < alpha:\n",
    "    print(\"Existe diferencia estadística entre los canales 1 y 2 en el grupo de sujetos con Parkinson.\")\n",
    "else:\n",
    "    print(\"No existe diferencia estadística entre los canales 1 y 2 en el grupo de sujetos con Parkinson.\")"
   ]
  },
  {
   "cell_type": "markdown",
   "metadata": {},
   "source": [
    "## Análisis: ## "
   ]
  },
  {
   "cell_type": "markdown",
   "metadata": {},
   "source": [
    "\n",
    "Ninguno de los canales tanto en el grupo de controles como en el grupo de sujetos con Parkinson sigue una distribución normal. Esto sugiere que las muestras no provienen de una población con una distribución normal. En el grupo de controles, al menos un canal no cumple con el supuesto de homocedasticidad, lo que significa que las varianzas de los canales pueden ser significativamente diferentes. De manera similar, en el grupo de sujetos con Parkinson, al menos un canal tampoco cumple con el supuesto de homocedasticidad, lo que indica que las varianzas de los canales en este grupo pueden ser distintas entre sí, debido a que La homocedasticidad se refiere a la igualdad de varianzas entre los grupos que se están comparando. Si al menos un canal en el grupo de control y otro canal en el grupo de sujetos con Parkinson no cumplen con el supuesto de homocedasticidad, entonces no se puede afirmar que los grupos tienen varianzas iguales de forma general.. Por ultimo en la prueba de Mann-Whitney no se encontró una diferencia estadística significativa entre los canales 1 y 2 tanto en el grupo de controles como en el grupo de sujetos con Parkinson. Esto sugiere que estos dos canales específicos no proporcionan información diferencial entre los grupos de sujetos sanos y aquellos con enfermedad de Parkinson en términos de energía.\n",
    "Esto nos podría sugerir, profe, que, los resultados indican que las señales de EEG de los canales evaluados no presentan diferencias significativas entre los grupos de controles y sujetos con Parkinson en términos de energía. Además, la falta de normalidad y homocedasticidad en los datos puede influir en la confiabilidad de los análisis estadísticos realizados."
   ]
  }
 ],
 "metadata": {
  "kernelspec": {
   "display_name": "Python 3.8.5 ('base')",
   "language": "python",
   "name": "python3"
  },
  "language_info": {
   "codemirror_mode": {
    "name": "ipython",
    "version": 3
   },
   "file_extension": ".py",
   "mimetype": "text/x-python",
   "name": "python",
   "nbconvert_exporter": "python",
   "pygments_lexer": "ipython3",
   "version": "3.12.0"
  },
  "orig_nbformat": 4,
  "vscode": {
   "interpreter": {
    "hash": "ad2bdc8ecc057115af97d19610ffacc2b4e99fae6737bb82f5d7fb13d2f2c186"
   }
  }
 },
 "nbformat": 4,
 "nbformat_minor": 2
}
