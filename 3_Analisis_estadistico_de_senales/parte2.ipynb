{
 "cells": [
  {
   "cell_type": "code",
   "execution_count": 21,
   "metadata": {},
   "outputs": [],
   "source": [
    "import numpy as np;\n",
    "import matplotlib.pyplot as plt;\n",
    "import scipy.io as sio;\n",
    "from scipy.fftpack import fft, ifft;"
   ]
  },
  {
   "cell_type": "code",
   "execution_count": 56,
   "metadata": {},
   "outputs": [],
   "source": [
    "#Cargar datos control\n",
    "import os\n",
    "directorio_actual=os.getcwd()\n",
    "archivos=os.listdir(directorio_actual+'/control')\n",
    "fs = 1000 #frec muestreo\n",
    "num_canales = 8 #Channels = 'C3' 'C1' 'CZ' 'C2' 'C4' 'O1' 'OZ' 'O2'\n",
    "control=[]\n",
    "for i in range(0,len(archivos)):\n",
    "    sujeto_i=directorio_actual+'/control'+'/'+archivos[i]\n",
    "    data=sio.loadmat(sujeto_i)\n",
    "    data=data['data'] #en el dataset 'data' corresponde a los datos --> matriz 3d \n",
    "    #control=np.reshape(data,(data.shape[0],data.shape[1]*data.shape[2]),order='F') #matriz 3d --> 2d\n",
    "    control.append(data)\n"
   ]
  },
  {
   "cell_type": "code",
   "execution_count": 60,
   "metadata": {},
   "outputs": [],
   "source": [
    "#cargar datos parkinson\n",
    "archivos=os.listdir(directorio_actual+'/parkinson')\n",
    "parkinson=[]\n",
    "for i in range(0,len(archivos)):\n",
    "    sujeto_i=directorio_actual+'/parkinson'+'/'+archivos[i]\n",
    "    data=sio.loadmat(sujeto_i)\n",
    "    data=data['data'] #en el dataset 'data' corresponde a los datos --> matriz 3d \n",
    "    #parkinson=np.reshape(data,(data.shape[0],data.shape[1]*data.shape[2]),order='F') #matriz 3d --> 2d\n",
    "    parkinson.append(data)"
   ]
  },
  {
   "cell_type": "markdown",
   "metadata": {},
   "source": [
    "1. Implemente una función que reciba una señal de múltiples canales y épocas y calcule la Energía de promedio de cada canal."
   ]
  },
  {
   "cell_type": "code",
   "execution_count": 128,
   "metadata": {},
   "outputs": [],
   "source": [
    "def average_energy(data): #data en 3d (canales,puntos,epocas)\n",
    "    data_reshape=np.reshape(data,(data.shape[0],data.shape[1]*data.shape[2]),order='F') #convertir a 2d\n",
    "    abs_squared=np.apply_along_axis(np.square,1,np.abs(data_reshape)) #valor absoluto al cuadrado, sumatoria de esto=energia\n",
    "    energy=np.apply_along_axis(np.mean,1,abs_squared) #promedio\n",
    "    return energy #devuelve array con la energía promedio de cada canal "
   ]
  },
  {
   "cell_type": "markdown",
   "metadata": {},
   "source": [
    "2. Calcule la energía de cada canal promediada por épocas para cada sujeto, esto para ambos grupos poblacionales. Guarde esta inormación en un DataFrame de columnas 'canal' y filas '#sujeto' con los valores de energía calculados. Un DataFrame para cada grupo poblacional."
   ]
  },
  {
   "cell_type": "markdown",
   "metadata": {},
   "source": [
    "3. Determine si existe diferencia estadística significativa entre canales de cada grupo de sujetos a través de una prueba t. Compruebe los supuestos necesarios par realizar una prueba t, esto es: normalidad de la variable, independencia (se asume que los grupos son independientes) y homocedasticidad (use una prueba de Levene), finalmente realice la prueba t para determinar si existen diferencias entre los canales entre grupos de sujetos. De no cumplirse los requisitos, realice entonces un análisis no paramétrico (prueba U de Mann-Whitney). Este numeral tiene como objetivo identificar los canales que entregan información diferencial entre pacientes sanos y con enfermedad de parkinson."
   ]
  }
 ],
 "metadata": {
  "kernelspec": {
   "display_name": "Python 3.8.10 64-bit",
   "language": "python",
   "name": "python3"
  },
  "language_info": {
   "codemirror_mode": {
    "name": "ipython",
    "version": 3
   },
   "file_extension": ".py",
   "mimetype": "text/x-python",
   "name": "python",
   "nbconvert_exporter": "python",
   "pygments_lexer": "ipython3",
   "version": "3.8.10"
  },
  "orig_nbformat": 4,
  "vscode": {
   "interpreter": {
    "hash": "fbfb34b5910cb8e3cf8c82c03abf56436d82c8ce1ebe34ee6e2f51eedc81d531"
   }
  }
 },
 "nbformat": 4,
 "nbformat_minor": 2
}
