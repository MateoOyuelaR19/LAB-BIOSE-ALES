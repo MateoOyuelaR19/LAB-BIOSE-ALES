{
  "nbformat": 4,
  "nbformat_minor": 0,
  "metadata": {
    "colab": {
      "provenance": []
    },
    "kernelspec": {
      "name": "python3",
      "display_name": "Python 3"
    },
    "language_info": {
      "name": "python"
    }
  },
  "cells": [
    {
      "cell_type": "code",
      "execution_count": null,
      "metadata": {
        "id": "ito8Qw77DVrI"
      },
      "outputs": [],
      "source": [
        "import numpy as np\n",
        "import matplotlib.pyplot as plt"
      ]
    },
    {
      "cell_type": "code",
      "source": [
        "n=np.array([-2,-1,0,1,2,3])\n",
        "x=np.array([5,6,7,5,4,3])"
      ],
      "metadata": {
        "id": "AOEu3mBaEns9"
      },
      "execution_count": null,
      "outputs": []
    },
    {
      "cell_type": "code",
      "source": [
        "#impulso unitario\n",
        "def impseq(n0,n1,n2):\n",
        "  n=np.arange(n1,n2+1)\n",
        "  x=(n-n0)==0\n",
        "  return [x,n]\n",
        "\n"
      ],
      "metadata": {
        "id": "CBHEShv8EqgR"
      },
      "execution_count": null,
      "outputs": []
    },
    {
      "cell_type": "code",
      "source": [
        "[x,n]=impseq(1,-2,2)"
      ],
      "metadata": {
        "id": "8SnL-_wkFgci"
      },
      "execution_count": null,
      "outputs": []
    },
    {
      "cell_type": "code",
      "source": [
        "plt.stem(n,x)"
      ],
      "metadata": {
        "id": "-hK5gMBjGJb4"
      },
      "execution_count": null,
      "outputs": []
    },
    {
      "cell_type": "markdown",
      "source": [
        "1) Implementar función para generar función de escalón unitario"
      ],
      "metadata": {
        "id": "XjAUBQP_I9HJ"
      }
    },
    {
      "cell_type": "code",
      "source": [
        "def unit(n0,n1,n2):\n",
        "  n=np.arange(n1,n2+1)\n",
        "  x=(n-n0)>=0\n",
        "  return [x,n]"
      ],
      "metadata": {
        "id": "r-mOn5c0G8SE"
      },
      "execution_count": null,
      "outputs": []
    },
    {
      "cell_type": "code",
      "source": [
        "[x,n]=unit(-1,-2,4)"
      ],
      "metadata": {
        "id": "m_pxoBZVH86d"
      },
      "execution_count": null,
      "outputs": []
    },
    {
      "cell_type": "code",
      "source": [
        "plt.stem(n,x)"
      ],
      "metadata": {
        "id": "PSS8Ic8uICua"
      },
      "execution_count": null,
      "outputs": []
    },
    {
      "cell_type": "markdown",
      "source": [
        "2) implemente función que permita generar una función rampa\n",
        "\n"
      ],
      "metadata": {
        "id": "U50NXC4uJRGD"
      }
    },
    {
      "cell_type": "code",
      "source": [
        "def rampa(n0,n1,n2,m):\n",
        "  n=np.arange(n1,n2+1)\n",
        "  x1=(n-n0)>0\n",
        "  x2=np.array(m*(n-n0))\n",
        "  x=x1*x2\n",
        "  return [x,n]"
      ],
      "metadata": {
        "id": "Sd_1Q6DgJXSF"
      },
      "execution_count": null,
      "outputs": []
    },
    {
      "cell_type": "code",
      "source": [
        "[x,n]=rampa(-1,-2,4,2)\n",
        "x"
      ],
      "metadata": {
        "colab": {
          "base_uri": "https://localhost:8080/"
        },
        "id": "yT77b3CGKQ4m",
        "outputId": "129dc458-b8c3-42b3-fdd7-5aea0bca3400"
      },
      "execution_count": null,
      "outputs": [
        {
          "output_type": "execute_result",
          "data": {
            "text/plain": [
              "array([ 0,  0,  2,  4,  6,  8, 10])"
            ]
          },
          "metadata": {},
          "execution_count": 35
        }
      ]
    },
    {
      "cell_type": "code",
      "source": [
        "plt.stem(n,x)\n"
      ],
      "metadata": {
        "id": "p3RBzYbSKcuw"
      },
      "execution_count": null,
      "outputs": []
    },
    {
      "cell_type": "markdown",
      "source": [
        "3) Generar las secuencias de a. a d."
      ],
      "metadata": {
        "id": "lkmhghdIq0eT"
      }
    },
    {
      "cell_type": "code",
      "source": [
        "#a.\n",
        "x1=3*impseq(-1,-4,4)[0]+5*impseq(-3,-4,4)[0]+3*impseq(-2,-4,4)[0]+3*impseq(0,-4,4)[0]+impseq(0,-4,4)[0] #secuencia\n",
        "[x,n]=impseq(0,-4,4) #para sacar el intervalo\n",
        "plt.stem(n,x1)"
      ],
      "metadata": {
        "colab": {
          "base_uri": "https://localhost:8080/",
          "height": 447
        },
        "id": "IumfyXp-JJGg",
        "outputId": "66451ad1-e9d1-4d57-86ce-70198dda6081"
      },
      "execution_count": null,
      "outputs": [
        {
          "output_type": "execute_result",
          "data": {
            "text/plain": [
              "<StemContainer object of 3 artists>"
            ]
          },
          "metadata": {},
          "execution_count": 16
        },
        {
          "output_type": "display_data",
          "data": {
            "text/plain": [
              "<Figure size 640x480 with 1 Axes>"
            ],
            "image/png": "[encoded data removed]"
          },
          "metadata": {}
        }
      ]
    },
    {
      "cell_type": "code",
      "source": [
        "#b\n",
        "[x,n]=unit(0,-6,6) #para sacar el intervalo\n",
        "x2=-2*unit(4,-6,6)[0]+3*unit(2,-6,6)[0] #secuencia\n",
        "plt.stem(n,x2)"
      ],
      "metadata": {
        "colab": {
          "base_uri": "https://localhost:8080/",
          "height": 447
        },
        "id": "HFDEQZtvLt7W",
        "outputId": "564fd2d2-3f28-4205-df3e-ce2c36aac5e4"
      },
      "execution_count": null,
      "outputs": [
        {
          "output_type": "execute_result",
          "data": {
            "text/plain": [
              "<StemContainer object of 3 artists>"
            ]
          },
          "metadata": {},
          "execution_count": 21
        },
        {
          "output_type": "display_data",
          "data": {
            "text/plain": [
              "<Figure size 640x480 with 1 Axes>"
            ],
            "image/png": "[encoded data removed]"
          },
          "metadata": {}
        }
      ]
    },
    {
      "cell_type": "code",
      "source": [
        "#c REVISAR --->el seno está dando raro porque se supone que debe ser cero ---> sin(2*pi)=0 -> periodo 2*pi-> sin(2*pi*n)=0\n",
        "n=np.linspace(0,100,101) #definir intervalo\n",
        "x3=np.exp(0.01*n)*np.sin(np.pi*2*n) #secuencia\n",
        "plt.axis([0,100,-1,1]) #para escalar la gráfica, si no se hace es más complicado entender que da cero. Va a ser mejor preguntar\n",
        "plt.plot(n,x3)"
      ],
      "metadata": {
        "colab": {
          "base_uri": "https://localhost:8080/",
          "height": 452
        },
        "id": "urHTHOp8OIm4",
        "outputId": "e6d15ed1-a967-441f-8e79-dd252affece3"
      },
      "execution_count": null,
      "outputs": [
        {
          "output_type": "execute_result",
          "data": {
            "text/plain": [
              "[<matplotlib.lines.Line2D at 0x7a19101cb430>]"
            ]
          },
          "metadata": {},
          "execution_count": 50
        },
        {
          "output_type": "display_data",
          "data": {
            "text/plain": [
              "<Figure size 640x480 with 1 Axes>"
            ],
            "image/png": "[encoded data removed]"
          },
          "metadata": {}
        }
      ]
    },
    {
      "cell_type": "code",
      "source": [
        "#d\n",
        "[x,n]=rampa(0,-10,10,1) #intervalo\n",
        "x4=rampa(-3,-10,10,2)[0]-rampa(2,-10,10,1)[0]-5*unit(3,-10,10)[0] #secuencia\n",
        "plt.stem(n,x4)"
      ],
      "metadata": {
        "colab": {
          "base_uri": "https://localhost:8080/",
          "height": 447
        },
        "id": "Gj8m5vNASFqb",
        "outputId": "b8ca190d-e828-416e-f7bc-f64a9ba4bd9d"
      },
      "execution_count": null,
      "outputs": [
        {
          "output_type": "execute_result",
          "data": {
            "text/plain": [
              "<StemContainer object of 3 artists>"
            ]
          },
          "metadata": {},
          "execution_count": 55
        },
        {
          "output_type": "display_data",
          "data": {
            "text/plain": [
              "<Figure size 640x480 with 1 Axes>"
            ],
            "image/png": "[encoded data removed]"
          },
          "metadata": {}
        }
      ]
    },
    {
      "cell_type": "markdown",
      "source": [
        "4) Genere la secuencia xn ...\n",
        "\n",
        "\n",
        "*   Derive la secuencia\n",
        "*   Hacer subplot con original y derivada. Describa lo que observa y por qué no es exactamente la derivada del caso continuo\n",
        "\n",
        "\n"
      ],
      "metadata": {
        "id": "lhlgsmatThye"
      }
    },
    {
      "cell_type": "code",
      "source": [
        "#secuencia\n",
        "n=np.linspace(0,17,18)\n",
        "rn=rampa(0,0,5,1)[0]\n",
        "rn5=rampa(5,6,11,1)[0]\n",
        "rn10=rampa(10,12,17,1)[0]\n",
        "xn=np.hstack((rn,rn5,rn10))\n",
        "plt.stem(n,xn)\n",
        "\n"
      ],
      "metadata": {
        "id": "ikWEnpwffrps",
        "colab": {
          "base_uri": "https://localhost:8080/",
          "height": 447
        },
        "outputId": "f65fc186-c006-4f5e-b633-68ec99d792c0"
      },
      "execution_count": null,
      "outputs": [
        {
          "output_type": "execute_result",
          "data": {
            "text/plain": [
              "<StemContainer object of 3 artists>"
            ]
          },
          "metadata": {},
          "execution_count": 21
        },
        {
          "output_type": "display_data",
          "data": {
            "text/plain": [
              "<Figure size 640x480 with 1 Axes>"
            ],
            "image/png": "[encoded data removed]"
          },
          "metadata": {}
        }
      ]
    },
    {
      "cell_type": "code",
      "source": [
        "#derivacion"
      ],
      "metadata": {
        "id": "i48VxTbZoihR"
      },
      "execution_count": null,
      "outputs": []
    },
    {
      "cell_type": "code",
      "source": [
        "#subplots"
      ],
      "metadata": {
        "id": "5PI85a0cokPY"
      },
      "execution_count": null,
      "outputs": []
    },
    {
      "cell_type": "markdown",
      "source": [
        "5) Sea x(n)={0,1,2 ...} Genere la secuencia anterior y grafique los resultados. Use las funciones que generó antes para generar la secuencia concatenando secuencias más simples. Además, encuentre las siguientes secuencias:\n",
        "\n",
        "\n",
        "a.   x5(n)=2x(n-4)+x(n)\n",
        "b.   x6(n)=esa vaina\n",
        "\n"
      ],
      "metadata": {
        "id": "oeFHwCVvorOn"
      }
    },
    {
      "cell_type": "code",
      "source": [
        "#x(n)\n",
        "x1=rampa(0,0,4,1)[0] #0,1,2,3,4\n",
        "x2=5*unit(0,0,4)[0]-rampa(0,0,4,1)[0] #5,4,3,2,1\n",
        "#se repite x1 --> 0,1,2,3,4\n",
        "x3=5*unit(0,0,7)[0]+5*unit(4,0,7)[0] #5,5,5,5,10,10,10,10\n",
        "xn=np.hstack((x1,x2,x1,x3)) #concatenación\n",
        "n=np.linspace(0,np.shape(xn)[0]-1,np.shape(xn)[0]) #intervalo\n",
        "plt.stem(n,xn)"
      ],
      "metadata": {
        "colab": {
          "base_uri": "https://localhost:8080/",
          "height": 447
        },
        "id": "MC2stOPnowmG",
        "outputId": "730dbe80-a7f4-4d68-fd45-841b42263495"
      },
      "execution_count": null,
      "outputs": [
        {
          "output_type": "execute_result",
          "data": {
            "text/plain": [
              "<StemContainer object of 3 artists>"
            ]
          },
          "metadata": {},
          "execution_count": 58
        },
        {
          "output_type": "display_data",
          "data": {
            "text/plain": [
              "<Figure size 640x480 with 1 Axes>"
            ],
            "image/png": "[encoded data removed]"
          },
          "metadata": {}
        }
      ]
    },
    {
      "cell_type": "code",
      "source": [
        "#a --> x5"
      ],
      "metadata": {
        "id": "_AOJgZ79vrTD"
      },
      "execution_count": null,
      "outputs": []
    },
    {
      "cell_type": "code",
      "source": [
        "#b --> x6"
      ],
      "metadata": {
        "id": "jC7ymr9MphWF"
      },
      "execution_count": null,
      "outputs": []
    }
  ]
}