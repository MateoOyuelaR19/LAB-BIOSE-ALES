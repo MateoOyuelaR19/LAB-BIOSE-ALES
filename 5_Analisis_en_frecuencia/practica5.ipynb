{
 "cells": [
  {
   "cell_type": "code",
   "execution_count": null,
   "metadata": {},
   "outputs": [],
   "source": []
  }
 ],
 "metadata": {
  "kernelspec": {
   "display_name": "Python 3.8.10 64-bit",
   "language": "python",
   "name": "python3"
  },
  "language_info": {
   "name": "python",
   "version": "3.8.10"
  },
  "orig_nbformat": 4,
  "vscode": {
   "interpreter": {
    "hash": "fbfb34b5910cb8e3cf8c82c03abf56436d82c8ce1ebe34ee6e2f51eedc81d531"
   }
  }
 },
 "nbformat": 4,
 "nbformat_minor": 2
}
